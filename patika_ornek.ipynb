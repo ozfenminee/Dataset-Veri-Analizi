{
 "cells": [
  {
   "cell_type": "code",
   "execution_count": 8,
   "id": "152616c4-1f2e-47c5-a48a-cdae1178565c",
   "metadata": {},
   "outputs": [
    {
     "name": "stdout",
     "output_type": "stream",
     "text": [
      "Index(['Row ID', 'Order ID', 'Order Date', 'Ship Date', 'Ship Mode',\n",
      "       'Customer ID', 'Customer Name', 'Segment', 'Country', 'City', 'State',\n",
      "       'Postal Code', 'Region', 'Product ID', 'Category', 'Sub-Category',\n",
      "       'Product Name', 'Sales', 'Quantity', 'Discount', 'Profit'],\n",
      "      dtype='object')\n"
     ]
    }
   ],
   "source": [
    "import matplotlib.pyplot as plt\n",
    "import seaborn as sns\n",
    "\n",
    "import numpy as np\n",
    "import pandas as pd\n",
    "\n",
    "from sklearn.model_selection import train_test_split\n",
    "from sklearn.linear_model import LinearRegression, Ridge\n",
    "from sklearn.ensemble import RandomForestRegressor\n",
    "from sklearn.metrics import mean_squared_error\n",
    "from sklearn.preprocessing import StandardScaler\n",
    "df = pd.read_csv(\"/Users/mineozfen/Desktop/superstore.csv\", encoding='ISO-8859-1')\n",
    "df.head() ##İlk beş satırı döndürür\n",
    "print(df.columns)"
   ]
  },
  {
   "cell_type": "code",
   "execution_count": 9,
   "id": "001e3515-59bc-4694-9215-cda4c7d2f553",
   "metadata": {},
   "outputs": [],
   "source": [
    "# 2. Gereksiz Sütunları Kaldır\n",
    "df.drop(['Row ID', 'Order ID', 'Order Date', 'Ship Date', 'Customer ID',\n",
    "         'Customer Name', 'Product ID', 'Product Name', 'Postal Code'], axis=1, inplace=True)\n"
   ]
  },
  {
   "cell_type": "code",
   "execution_count": 18,
   "id": "34867db7-6e0b-45c6-a792-0d904dfd7e73",
   "metadata": {},
   "outputs": [
    {
     "name": "stdout",
     "output_type": "stream",
     "text": [
      "        Sales  Quantity  Discount   Profit  Ship Mode_Same Day  \\\n",
      "0     261.960         2       0.0  41.9136               False   \n",
      "2      14.620         2       0.0   6.8714               False   \n",
      "4      22.368         2       0.2   2.5164               False   \n",
      "5      48.860         7       0.0  14.1694               False   \n",
      "6       7.280         4       0.0   1.9656               False   \n",
      "...       ...       ...       ...      ...                 ...   \n",
      "9988  206.100         5       0.0  55.6470               False   \n",
      "9989   25.248         3       0.2   4.1028               False   \n",
      "9990   91.960         2       0.0  15.6332               False   \n",
      "9991  258.576         2       0.2  19.3932               False   \n",
      "9992   29.600         4       0.0  13.3200               False   \n",
      "\n",
      "      Ship Mode_Second Class  Ship Mode_Standard Class  Segment_Corporate  \\\n",
      "0                       True                     False              False   \n",
      "2                       True                     False               True   \n",
      "4                      False                      True              False   \n",
      "5                      False                      True              False   \n",
      "6                      False                      True              False   \n",
      "...                      ...                       ...                ...   \n",
      "9988                   False                      True               True   \n",
      "9989                    True                     False              False   \n",
      "9990                   False                      True              False   \n",
      "9991                   False                      True              False   \n",
      "9992                   False                      True              False   \n",
      "\n",
      "      Segment_Home Office  City_Abilene  ...  Sub-Category_Envelopes  \\\n",
      "0                   False         False  ...                   False   \n",
      "2                   False         False  ...                   False   \n",
      "4                   False         False  ...                   False   \n",
      "5                   False         False  ...                   False   \n",
      "6                   False         False  ...                   False   \n",
      "...                   ...           ...  ...                     ...   \n",
      "9988                False         False  ...                   False   \n",
      "9989                False         False  ...                   False   \n",
      "9990                False         False  ...                   False   \n",
      "9991                False         False  ...                   False   \n",
      "9992                False         False  ...                   False   \n",
      "\n",
      "      Sub-Category_Fasteners  Sub-Category_Furnishings  Sub-Category_Labels  \\\n",
      "0                      False                     False                False   \n",
      "2                      False                     False                 True   \n",
      "4                      False                     False                False   \n",
      "5                      False                      True                False   \n",
      "6                      False                     False                False   \n",
      "...                      ...                       ...                  ...   \n",
      "9988                   False                     False                False   \n",
      "9989                   False                      True                False   \n",
      "9990                   False                      True                False   \n",
      "9991                   False                     False                False   \n",
      "9992                   False                     False                False   \n",
      "\n",
      "      Sub-Category_Machines  Sub-Category_Paper  Sub-Category_Phones  \\\n",
      "0                     False               False                False   \n",
      "2                     False               False                False   \n",
      "4                     False               False                False   \n",
      "5                     False               False                False   \n",
      "6                     False               False                False   \n",
      "...                     ...                 ...                  ...   \n",
      "9988                  False               False                 True   \n",
      "9989                  False               False                False   \n",
      "9990                  False               False                False   \n",
      "9991                  False               False                 True   \n",
      "9992                  False                True                False   \n",
      "\n",
      "      Sub-Category_Storage  Sub-Category_Supplies  Sub-Category_Tables  \n",
      "0                    False                  False                False  \n",
      "2                    False                  False                False  \n",
      "4                     True                  False                False  \n",
      "5                    False                  False                False  \n",
      "6                    False                  False                False  \n",
      "...                    ...                    ...                  ...  \n",
      "9988                 False                  False                False  \n",
      "9989                 False                  False                False  \n",
      "9990                 False                  False                False  \n",
      "9991                 False                  False                False  \n",
      "9992                 False                  False                False  \n",
      "\n",
      "[8113 rows x 608 columns]\n"
     ]
    }
   ],
   "source": [
    "# 3. Eksik Veri Kontrolü\n",
    "missing_summary = df.isnull().sum()\n",
    "\n",
    "# 4. Kategorik Değişkenleri Sayısala Çevir (One-Hot Encoding)\n",
    "df = pd.get_dummies(df, drop_first=True)\n",
    "print(df)"
   ]
  },
  {
   "cell_type": "code",
   "execution_count": 20,
   "id": "dd2faadc-340d-4726-b6f7-cef84db9971b",
   "metadata": {},
   "outputs": [],
   "source": [
    "# 5. Aykırı Değerleri İnceleme ve Temizleme (Sales ve Profit için)\n",
    "Q1 = df['Profit'].quantile(0.25)\n",
    "Q3 = df['Profit'].quantile(0.75)\n",
    "IQR = Q3 - Q1\n",
    "lower_bound = Q1 - 1.5 * IQR\n",
    "upper_bound = Q3 + 1.5 * IQR\n",
    "df = df[(df['Profit'] >= lower_bound) & (df['Profit'] <= upper_bound)]\n"
   ]
  },
  {
   "cell_type": "code",
   "execution_count": 12,
   "id": "c94bbe1c-c285-447c-8f90-2b34bec6754e",
   "metadata": {},
   "outputs": [],
   "source": [
    "# 6. Hedef ve Özelliklerin Ayrılması\n",
    "X = df.drop(['Profit'], axis=1)\n",
    "y = df['Profit']"
   ]
  },
  {
   "cell_type": "code",
   "execution_count": 21,
   "id": "b9c430fa-d52a-4bf5-ac47-7f4b20a4cade",
   "metadata": {},
   "outputs": [],
   "source": [
    "# 7. Ölçekleme\n",
    "scaler = StandardScaler()\n",
    "X_scaled = scaler.fit_transform(X)\n"
   ]
  },
  {
   "cell_type": "code",
   "execution_count": 22,
   "id": "438f5eea-7a38-46d3-a5f4-83fd206c52fb",
   "metadata": {},
   "outputs": [],
   "source": [
    "# 8. Veri Bölme (Train-Validation-Test: %60-%20-%20)\n",
    "X_train, X_temp, y_train, y_temp = train_test_split(X_scaled, y, test_size=0.4, random_state=42)\n",
    "X_val, X_test, y_val, y_test = train_test_split(X_temp, y_temp, test_size=0.5, random_state=42)\n",
    "\n",
    "# 9. Modellerin Eğitilmesi ve Karşılaştırılması\n",
    "models = {\n",
    "    \"Linear Regression\": LinearRegression(),\n",
    "    \"Ridge Regression\": Ridge(alpha=1.0),\n",
    "    \"Random Forest\": RandomForestRegressor(random_state=42)\n",
    "}\n",
    "\n",
    "results = []"
   ]
  },
  {
   "cell_type": "code",
   "execution_count": 25,
   "id": "cfdd5422-f9a4-4fcf-94fc-c66aa1092f94",
   "metadata": {},
   "outputs": [
    {
     "name": "stdout",
     "output_type": "stream",
     "text": [
      "               Model  Validation RMSE\n",
      "0  Linear Regression        15.713317\n",
      "1   Ridge Regression        15.711462\n",
      "2      Random Forest         9.738746\n",
      "3  Linear Regression        15.713317\n",
      "4   Ridge Regression        15.711462\n",
      "5      Random Forest         9.738746\n",
      "6  Linear Regression        15.713317\n",
      "7   Ridge Regression        15.711462\n",
      "8      Random Forest         9.738746\n"
     ]
    }
   ],
   "source": [
    "for name, model in models.items():\n",
    "    model.fit(X_train, y_train)\n",
    "    y_pred = model.predict(X_val)\n",
    "    rmse = np.sqrt(mean_squared_error(y_val, y_pred))\n",
    "    results.append((name, rmse))\n",
    "\n",
    "# Sonuçları DataFrame olarak göster\n",
    "results_df = pd.DataFrame(results, columns=[\"Model\", \"Validation RMSE\"])\n",
    "print(results_df)\n"
   ]
  },
  {
   "cell_type": "code",
   "execution_count": null,
   "id": "ec597e93-35b7-49b1-9829-34b5e6b5c554",
   "metadata": {},
   "outputs": [],
   "source": []
  }
 ],
 "metadata": {
  "kernelspec": {
   "display_name": "Python 3 (ipykernel)",
   "language": "python",
   "name": "python3"
  },
  "language_info": {
   "codemirror_mode": {
    "name": "ipython",
    "version": 3
   },
   "file_extension": ".py",
   "mimetype": "text/x-python",
   "name": "python",
   "nbconvert_exporter": "python",
   "pygments_lexer": "ipython3",
   "version": "3.10.13"
  }
 },
 "nbformat": 4,
 "nbformat_minor": 5
}
